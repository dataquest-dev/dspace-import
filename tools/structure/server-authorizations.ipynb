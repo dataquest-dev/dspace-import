{
 "cells": [
  {
   "cell_type": "code",
   "execution_count": null,
   "id": "678de4d2-c814-4a5d-9db5-d7cd9b08d3d5",
   "metadata": {},
   "outputs": [],
   "source": [
    "import os\n",
    "import requests\n",
    "import argparse\n",
    "from tqdm import tqdm\n",
    "import sys\n",
    "import logging\n",
    "\n",
    "src_dir = \"../../src\"\n",
    "sys.path.insert(0, src_dir)\n",
    "\n",
    "import pump  # noqa: E402\n",
    "import dspace  # noqa: E402\n",
    "from project_settings import settings  # noqa: E402\n",
    "from dotenv import load_dotenv\n"
   ]
  },
  {
   "cell_type": "code",
   "execution_count": null,
   "id": "a4dd3c59-ab7d-484f-b471-a1e416e30056",
   "metadata": {},
   "outputs": [],
   "source": [
    "env_path = os.path.join(src_dir, \".env-zcu\")\n",
    "# format of .env\n",
    "#   DSPACE_USER=\n",
    "#   DSPACE_PASSWORD=\n",
    "#   URL=\n",
    "load_dotenv(dotenv_path=env_path)"
   ]
  },
  {
   "cell_type": "code",
   "execution_count": null,
   "id": "2f72d31e-afe1-435b-b1fd-a3fff1504a1b",
   "metadata": {},
   "outputs": [],
   "source": [
    "url = os.environ[\"TESTURL\"].rstrip(\"/\")\n",
    "dspace_be = dspace.rest(endpoint=url, user=os.environ[\"DSPACE_USER\"], password=os.environ[\"DSPACE_PASSWORD\"], auth=True)"
   ]
  },
  {
   "cell_type": "code",
   "execution_count": null,
   "id": "4fd2d0dd-300c-4a47-876e-323d6c77536c",
   "metadata": {},
   "outputs": [],
   "source": [
    "coms = dspace_be.client.get_communities(size=100, top=True)\n",
    "\n",
    "print(f\"Found {len(coms)} coms\")\n",
    "# print(coms)\n",
    "print([c.name for c in coms])"
   ]
  },
  {
   "cell_type": "markdown",
   "id": "09b618df-9e5f-4391-b6c0-f0ebff1c760f",
   "metadata": {},
   "source": [
    "# Get all coms/subcoms/cols"
   ]
  },
  {
   "cell_type": "code",
   "execution_count": null,
   "id": "970f74a4-e729-45e0-82d5-8e5abec2312f",
   "metadata": {},
   "outputs": [],
   "source": [
    "import tqdm\n",
    "\n",
    "def _get_all(ftor, **kwargs):\n",
    "    arr = []\n",
    "    for page in range(0, sys.maxsize):\n",
    "        carr = ftor(page=page, size=100, **kwargs)\n",
    "        if len(carr or []) == 0:\n",
    "            break\n",
    "        arr += carr\n",
    "    return arr\n",
    "\n",
    "def com2dict(com):\n",
    "    d = com.as_dict()\n",
    "    d[\"_links\"] = com.links\n",
    "    return d\n",
    "    \n",
    "def _get_subc_from_links(com):\n",
    "    d_subc = com.links.get(\"subcommunities\", {})\n",
    "    if \"href\" not in d_subc:\n",
    "        return []\n",
    "    r_json = dspace_be.client.fetch_resource(d_subc[\"href\"])\n",
    "    arr = []\n",
    "    if '_embedded' in r_json:\n",
    "        arr += r_json['_embedded'].get('subcommunities', [])\n",
    "    elif 'uuid' in r_json:\n",
    "        arr = [r_json]\n",
    "    return arr\n",
    "    \n",
    "def _rec_make_com_dict(com_js_arr, top: bool = False):\n",
    "    com_arr = [dspace_be.models.Community(x) for x in com_js_arr]\n",
    "    d = {}\n",
    "    loop = com_arr if not top else tqdm.tqdm(com_arr)\n",
    "    for com in loop:\n",
    "        subc_arr = _get_subc_from_links(com)\n",
    "        cols = [x.as_dict() for x in _get_all(\n",
    "            dspace_be.client.get_collections, community=com)]\n",
    "        d[com.uuid] = {\n",
    "            \"self\": com2dict(com),\n",
    "            \"cols\": cols,\n",
    "            \"subcoms\": _rec_make_com_dict(subc_arr)\n",
    "        }\n",
    "    return d\n",
    "\n",
    "top_coms_arr = [com2dict(x) for x in coms]\n",
    "coms_d = _rec_make_com_dict(top_coms_arr, top=True)\n",
    "\n",
    "# for c in coms:\n",
    "#     print(40 * \"=\")\n",
    "#     print(c.name)\n",
    "#     subc_arr = _get_subc_from_links(c)\n",
    "#     print(subc_arr)\n",
    "#     cols = dspace_be.client.get_collections(community=c)\n",
    "#     for c in cols:\n",
    "#         print(f\"\\t{c.name}\")"
   ]
  },
  {
   "cell_type": "code",
   "execution_count": null,
   "id": "59a2a2e1-998f-439d-8758-613eb107bfb8",
   "metadata": {},
   "outputs": [],
   "source": [
    "def _print_com(js_com, arr, stats, level=0):\n",
    "    for js_col in js_com['cols']:\n",
    "        col =  dspace_be.models.Collection(js_col)\n",
    "        arr.append(f\"{' ' * (level + 4)}Collection: {col.name}\")\n",
    "        stats[\"cols\"] += 1\n",
    "    for js_subcom in js_com['subcoms'].values():\n",
    "        subcom = dspace_be.models.Community(js_subcom['self'])\n",
    "        arr.append(f\"{' ' * (level + 4)}SUB-Community: {subcom.name}\")\n",
    "        stats[\"subcoms\"] += 1\n",
    "        _print_com(js_subcom, arr, stats, level + 4)\n",
    "\n",
    "arr = []\n",
    "stats = {\n",
    "    \"coms\": len(coms_d),\n",
    "    \"cols\": 0,\n",
    "    \"subcoms\": 0\n",
    "}\n",
    "for js_com in coms_d.values():\n",
    "    com = dspace_be.models.Community(js_com['self'])\n",
    "    arr.append(f\"Community: {com.name}\")\n",
    "    _print_com(js_com, arr, stats)\n",
    "arr.append(\"====\")\n",
    "arr.append(f\"Stats: {stats}\")\n",
    "for l in arr:\n",
    "    print(l)"
   ]
  },
  {
   "cell_type": "code",
   "execution_count": null,
   "id": "7467c0bb-3b95-40b5-ae1f-1971e7b329a2",
   "metadata": {},
   "outputs": [],
   "source": [
    "#url = f'{dspace_be.client.API_ENDPOINT}/eperson/groups/76249e48-e378-4aee-a9cf-950e39bf292a/epersons'\n",
    "url = f'{dspace_be.client.API_ENDPOINT}/authz/authorizations/search/object?uri=https://naos-be.zcu.cz/server/api/core/collections/4fb201c4-aa9a-466c-8abc-cfcb1f57e85c'\n",
    "#url = f'{dspace_be.client.API_ENDPOINT}/authz/resourcepolicies/search/group?uuid=76249e48-e378-4aee-a9cf-950e39bf292a'\n",
    "\n",
    "print(url)\n",
    "resp = dspace_be.client.api_get(url)\n",
    "print(resp)\n",
    "# print(resp.text)\n",
    "print(resp.json())\n"
   ]
  },
  {
   "cell_type": "code",
   "execution_count": null,
   "id": "f83d87e4-fd84-48bc-b105-e2fa892b84d5",
   "metadata": {},
   "outputs": [],
   "source": [
    "# Get authorizations/..."
   ]
  }
 ],
 "metadata": {
  "kernelspec": {
   "display_name": "Python 3 (ipykernel)",
   "language": "python",
   "name": "python3"
  },
  "language_info": {
   "codemirror_mode": {
    "name": "ipython",
    "version": 3
   },
   "file_extension": ".py",
   "mimetype": "text/x-python",
   "name": "python",
   "nbconvert_exporter": "python",
   "pygments_lexer": "ipython3",
   "version": "3.11.3"
  }
 },
 "nbformat": 4,
 "nbformat_minor": 5
}
